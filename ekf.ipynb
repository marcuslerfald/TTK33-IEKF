{
 "cells": [
  {
   "cell_type": "code",
   "execution_count": null,
   "metadata": {},
   "outputs": [],
   "source": [
    "import numpy as np\n",
    "import pickle\n",
    "from vehicle import Vehicle\n",
    "def main():\n",
    "\n",
    "    trajectory = []\n",
    "\n",
    "    #Initialize model\n",
    "    x0 = np.array([0,0,0])\n",
    "    u = np.array([1,0.5])\n",
    "    vehicle = Vehicle(x0)\n",
    "    x_prev = x0\n",
    "\n",
    "    num_iterations = 100\n",
    "    k = 0\n",
    "    while k <= num_iterations:\n",
    "        \n",
    "        #Prediction step\n",
    "        P_pred = F @ P_prev @ F.T + Q\n",
    "        x_pred = vehicle.vehicle_dynamics(u)\n",
    "        \n",
    "        #Update step\n",
    "        K = P_pred @ G.T @ np.linalg.inv(G @ P_pred @ G.T + R)\n",
    "        P = (np.eye(x.size) - K @ G) @ P_pred\n",
    "        x = x_pred + K @ (y - g(x_pred))\n",
    "\n",
    "        x_prev = x\n",
    "        P_prev = P\n",
    "        trajectory.append([x,P])\n",
    "    \n",
    "    with open(\"ekf_run\", 'wb') as f:\n",
    "        pickle.dump(trajectory, f)\n"
   ]
  }
 ],
 "metadata": {
  "kernelspec": {
   "display_name": "Python 3.8.10 64-bit",
   "language": "python",
   "name": "python3"
  },
  "language_info": {
   "name": "python",
   "version": "3.8.10"
  },
  "orig_nbformat": 4,
  "vscode": {
   "interpreter": {
    "hash": "31f2aee4e71d21fbe5cf8b01ff0e069b9275f58929596ceb00d14d90e3e16cd6"
   }
  }
 },
 "nbformat": 4,
 "nbformat_minor": 2
}
